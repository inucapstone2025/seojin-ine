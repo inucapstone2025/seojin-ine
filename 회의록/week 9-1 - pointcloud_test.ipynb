{
 "cells": [
  {
   "cell_type": "code",
   "execution_count": null,
   "id": "b07b789a",
   "metadata": {},
   "outputs": [],
   "source": [
    "import pyrealsense2 as rs\n",
    "import numpy as np"
   ]
  },
  {
   "cell_type": "code",
   "execution_count": 4,
   "id": "434c0eb1",
   "metadata": {},
   "outputs": [],
   "source": [
    "class py_Realsense():\n",
    "    def __init__(self):\n",
    "        self.pipeline = rs.pipeline() # Frame을 받을 pipeline 생성\n",
    "        self.pc = rs.pointcloud() # Point cloud 생성을 위한 인스턴스 생성\n",
    "        self.config = rs.config()\n",
    "        self.align = None\n",
    "        self.align_to = None\n",
    "\n",
    "        context = rs.context()\n",
    "        connect_device = None\n",
    "        if context.devices[0].get_info(rs.camera_info.name).lower() != 'platform camera':\n",
    "            connect_device = context.devices[0].get_info(rs.camera_info.serial_number)\n",
    "        print(\" > Serial number : {}\".format(connect_device))    \n",
    "\n",
    "        self.config.enable_device(connect_device)\n",
    "        self.config.enable_stream(rs.stream.depth, 640, 480, rs.format.z16, 30)\n",
    "        self.config.enable_stream(rs.stream.color, 640, 480, rs.format.bgr8, 30)  \n",
    "\n",
    "        self.align_to = rs.stream.color\n",
    "        self.align = rs.align(self.align_to)  \n",
    "\n",
    "    def capture(self):\n",
    "        # 파이프라인 시작\n",
    "        self.pipeline.start(self.config)\n",
    "\n",
    "        frames = self.pipeline.wait_for_frames()\n",
    "        aligned_frames = self.align.process(frames)\n",
    "\n",
    "        depth_frame = aligned_frames.get_depth_frame() # 깊이 맵 \n",
    "        color_frame = aligned_frames.get_color_frame()\n",
    "\n",
    "        color_image = np.array(color_frame.get_data())\n",
    "\n",
    "        self.pc.map_to(color_frame)\n",
    "        points = self.pc.calculate(depth_frame) # 깊이 맵을 포인트 클라우드로 변환\n",
    "\n",
    "        v = np.array(points.get_vertices()) # 3D 좌표\n",
    "        c = color_image.reshape(-1, 3)      # 색상 정보\n",
    "\n",
    "        self.pipeline.stop()\n",
    "\n",
    "        return v, c, depth_frame"
   ]
  },
  {
   "cell_type": "code",
   "execution_count": 10,
   "id": "52f50071",
   "metadata": {},
   "outputs": [
    {
     "name": "stdout",
     "output_type": "stream",
     "text": [
      " > Serial number : 327122076042\n"
     ]
    }
   ],
   "source": [
    "cam = py_Realsense()\n",
    "vertices, colors, depth_frame = cam.capture()\n",
    "# vertices : 3D 좌표 정보\n",
    "# colors : RGB 색상 정보"
   ]
  },
  {
   "cell_type": "code",
   "execution_count": 11,
   "id": "cce5bc6c",
   "metadata": {},
   "outputs": [
    {
     "name": "stdout",
     "output_type": "stream",
     "text": [
      "(307200,)\n",
      "(307200, 3)\n",
      "4187\n"
     ]
    }
   ],
   "source": [
    "print(vertices.shape) # 307200 : 포인트 클라우드의 점의 개수 (x,y,z) 값 나열해서 1차원 배열로 표현\n",
    "print(colors.shape)\n",
    "# 이거 viwer 키고 하면 오류남 -> RuntimeError: Frame didn't arrive within 5000\n",
    "\n",
    "# 깊이 맵을 numpy 배열로 변환\n",
    "depth_image = np.array(depth_frame.get_data()) # depth_image는 각 픽셀에 대한 거리 정보가 포함된 2D 배열\n",
    "print(depth_image[1, 1])  # (1, 1) 지점의 깊이 값"
   ]
  },
  {
   "cell_type": "code",
   "execution_count": 12,
   "id": "e9a2e444",
   "metadata": {},
   "outputs": [
    {
     "name": "stdout",
     "output_type": "stream",
     "text": [
      "[(-2.232588  , -1.7240125 , 4.1870003 )\n",
      " (-2.225662  , -1.7240125 , 4.1870003 )\n",
      " (-2.218736  , -1.7240125 , 4.1870003 ) ...\n",
      " ( 0.19778827,  0.14477792, 0.38000003)\n",
      " ( 0.19841684,  0.14477792, 0.38000003)\n",
      " ( 0.19904545,  0.14477792, 0.38000003)]\n"
     ]
    }
   ],
   "source": [
    "print(vertices)"
   ]
  },
  {
   "cell_type": "code",
   "execution_count": 15,
   "id": "43523691",
   "metadata": {},
   "outputs": [],
   "source": [
    "np.savetxt(\"point_cloud_data.txt\", vertices, fmt=\"%.8f\", delimiter=\",\")"
   ]
  },
  {
   "cell_type": "code",
   "execution_count": 8,
   "id": "6dc5b258",
   "metadata": {},
   "outputs": [
    {
     "name": "stdout",
     "output_type": "stream",
     "text": [
      "Jupyter environment detected. Enabling Open3D WebVisualizer.\n",
      "[Open3D INFO] WebRTC GUI backend enabled.\n",
      "[Open3D INFO] WebRTCWindowSystem: HTTP handshake server disabled.\n"
     ]
    }
   ],
   "source": [
    "import open3d as o3d\n",
    "\n",
    "# 3D 포인트 클라우드 시각화 함수\n",
    "def visualize_point_cloud(vertices, colors):\n",
    "    # Open3D PointCloud 객체 생성\n",
    "    point_cloud = o3d.geometry.PointCloud()\n",
    "    \n",
    "    # vertices는 structured array이므로 각 좌표값을 x, y, z로 분리하여 ndarray로 변환\n",
    "    vertices_array = np.array([vertex.tolist() for vertex in vertices])\n",
    "\n",
    "    # 3D 좌표와 색상 정보 설정\n",
    "    point_cloud.points = o3d.utility.Vector3dVector(vertices_array)\n",
    "    point_cloud.colors = o3d.utility.Vector3dVector(np.asarray(colors, dtype=np.float64) / 255.0)  # 색상 정규화\n",
    "\n",
    "    \n",
    "    # 포인트 클라우드 시각화\n",
    "    o3d.visualization.draw_geometries([point_cloud])"
   ]
  },
  {
   "cell_type": "code",
   "execution_count": 13,
   "id": "d0bdb8e7",
   "metadata": {},
   "outputs": [
    {
     "name": "stdout",
     "output_type": "stream",
     "text": [
      "[Open3D WARNING] [ViewControl] SetViewPoint() failed because window height and width are not set.\n"
     ]
    }
   ],
   "source": [
    "visualize_point_cloud(vertices, colors)"
   ]
  },
  {
   "cell_type": "code",
   "execution_count": null,
   "id": "4e6061c4",
   "metadata": {},
   "outputs": [],
   "source": []
  }
 ],
 "metadata": {
  "kernelspec": {
   "display_name": "realsense",
   "language": "python",
   "name": "python3"
  },
  "language_info": {
   "codemirror_mode": {
    "name": "ipython",
    "version": 3
   },
   "file_extension": ".py",
   "mimetype": "text/x-python",
   "name": "python",
   "nbconvert_exporter": "python",
   "pygments_lexer": "ipython3",
   "version": "3.8.20"
  }
 },
 "nbformat": 4,
 "nbformat_minor": 5
}
