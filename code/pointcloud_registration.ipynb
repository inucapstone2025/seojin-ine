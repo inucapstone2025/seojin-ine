{
 "cells": [
  {
   "cell_type": "code",
   "execution_count": 1,
   "id": "6cf08558",
   "metadata": {},
   "outputs": [
    {
     "name": "stdout",
     "output_type": "stream",
     "text": [
      "Jupyter environment detected. Enabling Open3D WebVisualizer.\n",
      "[Open3D INFO] WebRTC GUI backend enabled.\n",
      "[Open3D INFO] WebRTCWindowSystem: HTTP handshake server disabled.\n"
     ]
    }
   ],
   "source": [
    "import pyrealsense2 as rs\n",
    "import numpy as np\n",
    "import open3d as o3d"
   ]
  },
  {
   "cell_type": "markdown",
   "id": "3d4f6cd6",
   "metadata": {},
   "source": [
    "### 1. 데이터 정합하는 함수"
   ]
  },
  {
   "cell_type": "code",
   "execution_count": 5,
   "id": "05cdd45e",
   "metadata": {},
   "outputs": [],
   "source": [
    "def transform_and_save_point_cloud(file_path, degree, radius, output_path=None):\n",
    "    \"\"\"\n",
    "    주어진 각도와 반지름에 따라 Point Cloud를 회전+이동 변환하여 저장하는 함수.\n",
    "\n",
    "    Parameters:\n",
    "    - file_path: 입력 포인트 클라우드 파일 경로 (.pcd)\n",
    "    - degree: 회전 각도 (도 단위)\n",
    "    - radius: 카메라 원 반지름 (m)\n",
    "    - output_path: 저장 경로 (기본값은 'cloud_{degree}_aligned.pcd')\n",
    "    \"\"\"\n",
    "    # 포인트 클라우드 로드\n",
    "    pcd = o3d.io.read_point_cloud(file_path)\n",
    "\n",
    "    # 각도 → 라디안\n",
    "    theta = np.radians(degree)\n",
    "    \n",
    "    # 회전 행렬 (yaw 회전)\n",
    "    R = np.array([\n",
    "        [np.cos(theta), 0, np.sin(theta)],\n",
    "        [0, 1, 0],\n",
    "        [-np.sin(theta), 0, np.cos(theta)]\n",
    "    ])\n",
    "    \n",
    "    # 카메라 위치 계산 (반지름 적용)\n",
    "    tx = radius * np.sin(theta)\n",
    "    tz = radius * np.cos(theta)\n",
    "\n",
    "    # 4x4 변환 행렬 구성\n",
    "    T = np.eye(4)\n",
    "    T[:3, :3] = R\n",
    "    T[:3, 3] = [-tx, 0.0, -tz] # 이동 벡터\n",
    "\n",
    "    # 변환 적용\n",
    "    pcd.transform(T)\n",
    "\n",
    "    # 저장 경로 설정\n",
    "    if output_path is None:\n",
    "        output_path = f\"cloud_{degree}_aligned_test1.pcd\"\n",
    "\n",
    "    o3d.io.write_point_cloud(output_path, pcd)\n",
    "    print(f\"✓ 저장 완료: {output_path}\")\n"
   ]
  },
  {
   "cell_type": "markdown",
   "id": "e7b1e116",
   "metadata": {},
   "source": [
    "##### 배경 제거 파일 불러와 정합하고 시각화하는 코드 "
   ]
  },
  {
   "cell_type": "code",
   "execution_count": 6,
   "id": "81b46cd0",
   "metadata": {},
   "outputs": [
    {
     "name": "stdout",
     "output_type": "stream",
     "text": [
      "✓ 저장 완료: D:\\repos\\my_librealsense\\pcd_data\\bgm\\cloud_0_aligned_test1.pcd\n",
      "✓ 저장 완료: D:\\repos\\my_librealsense\\pcd_data\\bgm\\cloud_90_aligned_test1.pcd\n",
      "✓ 저장 완료: D:\\repos\\my_librealsense\\pcd_data\\bgm\\cloud_180_aligned_test1.pcd\n",
      "✓ 저장 완료: D:\\repos\\my_librealsense\\pcd_data\\bgm\\cloud_270_aligned_test1.pcd\n"
     ]
    }
   ],
   "source": [
    "import os\n",
    "\n",
    "# 정합할 각도와 반지름\n",
    "degrees = [0, 90, 180, 270]\n",
    "radius = 0.5  # 반지름 (m)\n",
    "\n",
    "# 기본 경로 설정\n",
    "base_dir = r\"D:\\repos\\my_librealsense\\pcd_data\\bgm\"\n",
    "\n",
    "# 각 PCD 파일에 대해 정합 수행\n",
    "for deg in degrees:\n",
    "    file_path = os.path.join(base_dir, f\"cloud_{deg}_test1_shoes_result.pcd\")\n",
    "    output_path = os.path.join(base_dir, f\"cloud_{deg}_aligned_test1.pcd\")\n",
    "    transform_and_save_point_cloud(file_path, deg, radius, output_path)\n"
   ]
  },
  {
   "cell_type": "code",
   "execution_count": 7,
   "id": "45d8f670",
   "metadata": {},
   "outputs": [
    {
     "name": "stdout",
     "output_type": "stream",
     "text": [
      "[Open3D WARNING] [ViewControl] SetViewPoint() failed because window height and width are not set.\n"
     ]
    }
   ],
   "source": [
    "import open3d as o3d\n",
    "import os\n",
    "\n",
    "# 정합된 PCD 파일 경로 정보\n",
    "degrees = [0, 90, 180, 270]\n",
    "base_dir = r\"D:\\repos\\my_librealsense\\pcd_data\\bgm\"\n",
    "\n",
    "# 병합 시작\n",
    "combined_pcd = o3d.io.read_point_cloud(os.path.join(base_dir, f\"cloud_{degrees[0]}_aligned_test1.pcd\"))\n",
    "for degree in degrees[1:]:\n",
    "    aligned_path = os.path.join(base_dir, f\"cloud_{degree}_aligned_test1.pcd\")\n",
    "    aligned = o3d.io.read_point_cloud(aligned_path)\n",
    "    combined_pcd += aligned\n",
    "\n",
    "# 좌표축 추가\n",
    "coord = o3d.geometry.TriangleMesh.create_coordinate_frame(size=0.1)\n",
    "\n",
    "# 시각화\n",
    "o3d.visualization.draw_geometries([combined_pcd, coord])\n"
   ]
  }
 ],
 "metadata": {
  "kernelspec": {
   "display_name": "realsense",
   "language": "python",
   "name": "python3"
  },
  "language_info": {
   "codemirror_mode": {
    "name": "ipython",
    "version": 3
   },
   "file_extension": ".py",
   "mimetype": "text/x-python",
   "name": "python",
   "nbconvert_exporter": "python",
   "pygments_lexer": "ipython3",
   "version": "3.8.20"
  }
 },
 "nbformat": 4,
 "nbformat_minor": 5
}
