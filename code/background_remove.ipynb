{
 "cells": [
  {
   "cell_type": "code",
   "execution_count": 10,
   "id": "a67012fb",
   "metadata": {},
   "outputs": [],
   "source": [
    "import numpy as np\n",
    "import open3d as o3d\n",
    "import os "
   ]
  },
  {
   "cell_type": "code",
   "execution_count": 11,
   "id": "dc73bde0",
   "metadata": {},
   "outputs": [],
   "source": [
    "def filter_shoes_both(pcd,\n",
    "                      x_range=(-0.25, 0.25),\n",
    "                      y_range=(-2.0, 3.0),\n",
    "                      z_range=(0.15, 0.7),\n",
    "                      plane_threshold=0.01,\n",
    "                      ransac_n=3,\n",
    "                      num_iterations=1000,\n",
    "                      cluster_eps=0.02,\n",
    "                      cluster_min_points=100,\n",
    "                      num_clusters=2):\n",
    "    # 1) ROI 크롭\n",
    "    bbox = o3d.geometry.AxisAlignedBoundingBox(\n",
    "        min_bound=[x_range[0], y_range[0], z_range[0]],\n",
    "        max_bound=[x_range[1], y_range[1], z_range[1]]\n",
    "    )\n",
    "    pcd_crop = pcd.crop(bbox)\n",
    "\n",
    "\n",
    "    # 2) 바닥 평면 제거\n",
    "    try:\n",
    "        _, inliers = pcd_crop.segment_plane(\n",
    "            distance_threshold=plane_threshold,\n",
    "            ransac_n=ransac_n,\n",
    "            num_iterations=num_iterations\n",
    "        )\n",
    "        pcd_nofloor = pcd_crop.select_by_index(inliers, invert=True)\n",
    "    except RuntimeError:\n",
    "        pcd_nofloor = pcd_crop\n",
    "    \n",
    "\n",
    "    # 3) DBSCAN 클러스터링\n",
    "    labels = np.array(\n",
    "        pcd_nofloor.cluster_dbscan(eps=cluster_eps,\n",
    "                                   min_points=cluster_min_points,\n",
    "                                   print_progress=False)\n",
    "    )\n",
    "    valid = labels >= 0\n",
    "    if not np.any(valid):\n",
    "        return pcd_nofloor\n",
    "\n",
    "    # 4) 상위 num_clusters개 군집 라벨 뽑기\n",
    "    counts = np.bincount(labels[valid])\n",
    "    top_labels = np.argsort(counts)[::-1][:num_clusters]\n",
    "\n",
    "    # 5) 위 라벨들에 속하는 점 인덱스 모두 모아서 반환\n",
    "    mask = np.isin(labels, top_labels)\n",
    "    indices = np.where(mask)[0]\n",
    "    return pcd_nofloor.select_by_index(indices)\n",
    "    "
   ]
  },
  {
   "cell_type": "code",
   "execution_count": null,
   "id": "55be3680",
   "metadata": {},
   "outputs": [],
   "source": [
    "def visualize(pcd, title=\"신발 결과\", width=800, height=600):\n",
    "    vis = o3d.visualization.Visualizer()\n",
    "    vis.create_window(window_name=title, width=width, height=height)\n",
    "    opt = vis.get_render_option()\n",
    "    opt.background_color = (0.1, 0.1, 0.1)\n",
    "    vis.add_geometry(pcd)\n",
    "    vis.run()\n",
    "    vis.destroy_window()"
   ]
  },
  {
   "cell_type": "code",
   "execution_count": null,
   "id": "56a128d7",
   "metadata": {},
   "outputs": [
    {
     "name": "stdout",
     "output_type": "stream",
     "text": [
      "\n",
      "[Processing] cloud_0_test1.pcd\n",
      "[Saved] c:\\Users\\Home Bsw\\Desktop\\bgrm d435\\filtered_results\\cloud_0_test1_both_shoes.pcd\n",
      "\n",
      "[Processing] cloud_180_test1.pcd\n",
      "[Saved] c:\\Users\\Home Bsw\\Desktop\\bgrm d435\\filtered_results\\cloud_180_test1_both_shoes.pcd\n",
      "\n",
      "[Processing] cloud_270_test1.pcd\n",
      "[Saved] c:\\Users\\Home Bsw\\Desktop\\bgrm d435\\filtered_results\\cloud_270_test1_both_shoes.pcd\n",
      "\n",
      "[Processing] cloud_90_test1.pcd\n",
      "[Saved] c:\\Users\\Home Bsw\\Desktop\\bgrm d435\\filtered_results\\cloud_90_test1_both_shoes.pcd\n",
      "\n",
      "모든 파일 처리 완료.\n"
     ]
    }
   ],
   "source": [
    "if __name__ == \"__main__\":\n",
    "   \n",
    "    input_dir  = os.getcwd()                     \n",
    "    output_dir = os.path.join(input_dir, \"filtered_results\") #결과 저장 폴더 \n",
    "    os.makedirs(output_dir, exist_ok=True)\n",
    "\n",
    "    # 2) 폴더 내 모든 .pcd 파일 찾아서 작업 진행 코드 \n",
    "    for fname in os.listdir(input_dir):\n",
    "        if not fname.lower().endswith(\".pcd\"):\n",
    "            continue\n",
    "\n",
    "        in_path  = os.path.join(input_dir, fname)\n",
    "        out_name = os.path.splitext(fname)[0] + \"_shoes_result.pcd\"\n",
    "        out_path = os.path.join(output_dir, out_name)\n",
    "\n",
    "        print(f\"\\n[Processing] {fname}\")\n",
    "        # 3) 배경 제거 수행 \n",
    "        pcd      = o3d.io.read_point_cloud(in_path)\n",
    "        filtered = filter_shoes_both(pcd)\n",
    "\n",
    "        # 4) 저장\n",
    "        o3d.io.write_point_cloud(out_path, filtered)\n",
    "        print(f\"[Saved] {out_path}\")\n",
    "\n",
    "        # 5) 시각화\n",
    "        visualize(filtered, title=f\"Filtered: {fname}\")\n",
    "\n",
    "    print(\"\\n모든 파일 처리 완료.\")"
   ]
  }
 ],
 "metadata": {
  "kernelspec": {
   "display_name": "Python 3",
   "language": "python",
   "name": "python3"
  },
  "language_info": {
   "codemirror_mode": {
    "name": "ipython",
    "version": 3
   },
   "file_extension": ".py",
   "mimetype": "text/x-python",
   "name": "python",
   "nbconvert_exporter": "python",
   "pygments_lexer": "ipython3",
   "version": "3.11.9"
  }
 },
 "nbformat": 4,
 "nbformat_minor": 5
}
